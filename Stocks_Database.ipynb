{
 "cells": [
  {
   "cell_type": "code",
   "execution_count": 5,
   "metadata": {},
   "outputs": [
    {
     "name": "stdout",
     "output_type": "stream",
     "text": [
      "   ID Ticker                         Name\n",
      "0   1   AN.2                   AMOCO CORP\n",
      "1   2   ANDV                     ANDEAVOR\n",
      "2   3  ANRZQ  ALPHA NATURAL RESOURCES INC\n",
      "3   4    APA                  APACHE CORP\n",
      "4   5    APC      ANADARKO PETROLEUM CORP\n"
     ]
    }
   ],
   "source": [
    "import pandas as pd\n",
    "import datetime\n",
    "from django.db import models\n",
    "\n",
    "stocks_df = pd.read_csv('sector10_tickers.csv')\n",
    "print(stocks_df.head())"
   ]
  },
  {
   "cell_type": "code",
   "execution_count": 6,
   "metadata": {},
   "outputs": [
    {
     "name": "stdout",
     "output_type": "stream",
     "text": [
      "[[1 'AN.2' 'AMOCO CORP']\n",
      " [2 'ANDV' 'ANDEAVOR']\n",
      " [3 'ANRZQ' 'ALPHA NATURAL RESOURCES INC']\n",
      " [4 'APA' 'APACHE CORP']\n",
      " [5 'APC' 'ANADARKO PETROLEUM CORP']\n",
      " [6 'ARC.3' 'ATLANTIC RICHFIELD CO']\n",
      " [7 'BHI' 'BAKER HUGHES INC']\n",
      " [8 'BJS.1' 'BJ SERVICES CO']\n",
      " [9 'BR.2' 'BURLINGTON RESOURCES INC']\n",
      " [10 'BTU' 'PEABODY ENERGY CORP']\n",
      " [11 'CAM' 'CAMERON INTERNATIONAL CORP']\n",
      " [12 'CHK' 'CHESAPEAKE ENERGY CORP']\n",
      " [13 'CNX' 'CONSOL ENERGY INC']\n",
      " [14 'COC1' 'CONOCO INC']\n",
      " [15 'COG' 'CABOT OIL & GAS CORP']\n",
      " [16 'COP' 'CONOCOPHILLIPS']\n",
      " [17 'CPGX' 'COLUMBIA PIPELINE GROUP INC']\n",
      " [18 'CVX' 'CHEVRON CORP']\n",
      " [19 'CXO' 'CONCHO RESOURCES INC']\n",
      " [20 'DI.' 'DRESSER INDUSTRIES INC']\n",
      " [21 'DNR' 'DENBURY RESOURCES INC']\n",
      " [22 'DO' 'DIAMOND OFFSHRE DRILLING INC']\n",
      " [23 'DVN' 'DEVON ENERGY CORP']\n",
      " [24 'EOG' 'EOG RESOURCES INC']\n",
      " [25 'EP' 'EL PASO CORP']\n",
      " [26 'EQT' 'EQT CORP']\n",
      " [27 'ESV' 'ENSCO PLC']\n",
      " [28 'FTI' 'TECHNIPFMC PLC']\n",
      " [29 'FTI.1' 'FMC TECHNOLOGIES INC']\n",
      " [30 'HAL' 'HALLIBURTON CO']\n",
      " [31 'HES' 'HESS CORP']\n",
      " [32 'HP' 'HELMERICH & PAYNE']\n",
      " [33 'KMG.1' 'KERR-MCGEE CORP']\n",
      " [34 'KMI' 'KINDER MORGAN INC']\n",
      " [35 'LLX.' 'LOUISIANA LAND & EXPLORATION']\n",
      " [36 'MDR' 'MCDERMOTT INTL INC']\n",
      " [37 'MEE' 'MASSEY ENERGY CO']\n",
      " [38 'MOB.2' 'MOBIL CORP']\n",
      " [39 'MPC' 'MARATHON PETROLEUM CORP']\n",
      " [40 'MRO' 'MARATHON OIL CORP']\n",
      " [41 'MROX.CM' 'USX CORP-CONSOLIDATED']\n",
      " [42 'MUR' 'MURPHY OIL CORP']\n",
      " [43 'MXS' 'MAXUS ENERGY CORP']\n",
      " [44 'NBL' 'NOBLE ENERGY INC']\n",
      " [45 'NBR' 'NABORS INDUSTRIES LTD']\n",
      " [46 'NC' 'NACCO INDUSTRIES  -CL A']\n",
      " [47 'NE' 'NOBLE CORP PLC']\n",
      " [48 'NFX' 'NEWFIELD EXPLORATION CO']\n",
      " [49 'NOV' 'NATIONAL OILWELL VARCO INC']\n",
      " [50 'OKE' 'ONEOK INC']\n",
      " [51 'ORX' 'ORYX ENERGY CO']\n",
      " [52 'OXY' 'OCCIDENTAL PETROLEUM CORP']\n",
      " [53 'PSX' 'PHILLIPS 66']\n",
      " [54 'PXD' 'PIONEER NATURAL RESOURCES CO']\n",
      " [55 'PZE.1' 'PENNZENERGY CO']\n",
      " [56 'QEP' 'QEP RESOURCES INC']\n",
      " [57 'RDC' 'ROWAN COMPANIES PLC']\n",
      " [58 'RDPL' 'ROYAL DUTCH PETROLEUM NV']\n",
      " [59 'RIG' 'TRANSOCEAN LTD']\n",
      " [60 'RRC' 'RANGE RESOURCES CORP']\n",
      " [61 'SFS.1' 'SANTA FE SNYDER CORP']\n",
      " [62 'SII' 'SMITH INTERNATIONAL INC']\n",
      " [63 'SLB' 'SCHLUMBERGER LTD']\n",
      " [64 'SUN.1' 'SUNOCO INC']\n",
      " [65 'SWN' 'SOUTHWESTERN ENERGY CO']\n",
      " [66 'SXCL' 'STEEL EXCEL INC']\n",
      " [67 'TOS.1' 'TOSCO CORP']\n",
      " [68 'TX.2' 'TEXACO INC']\n",
      " [69 'UCL' 'UNOCAL CORP']\n",
      " [70 'UPR.1' 'UNION PACIFIC RESOURCES GRP']\n",
      " [71 'VLO' 'VALERO ENERGY CORP']\n",
      " [72 'WAI.1' 'WESTERN ATLAS INC']\n",
      " [73 'WFT' 'WEATHERFORD INTL PLC']\n",
      " [74 'WLB' 'WESTMORELAND COAL CO']\n",
      " [75 'WMB' 'WILLIAMS COS INC']\n",
      " [76 'WPX' 'WPX ENERGY INC']\n",
      " [77 'XEC' 'CIMAREX ENERGY CO']\n",
      " [78 'XOM' 'EXXON MOBIL CORP']\n",
      " [79 'XTO' 'XTO ENERGY INC']]\n"
     ]
    }
   ],
   "source": [
    "tup = stocks_df.values\n",
    "print(tup)"
   ]
  },
  {
   "cell_type": "code",
   "execution_count": 11,
   "metadata": {},
   "outputs": [
    {
     "name": "stdout",
     "output_type": "stream",
     "text": [
      "['AMOCO CORP (AN.2)', 'ANDEAVOR (ANDV)', 'ALPHA NATURAL RESOURCES INC (ANRZQ)', 'APACHE CORP (APA)', 'ANADARKO PETROLEUM CORP (APC)', 'ATLANTIC RICHFIELD CO (ARC.3)', 'BAKER HUGHES INC (BHI)', 'BJ SERVICES CO (BJS.1)', 'BURLINGTON RESOURCES INC (BR.2)', 'PEABODY ENERGY CORP (BTU)', 'CAMERON INTERNATIONAL CORP (CAM)', 'CHESAPEAKE ENERGY CORP (CHK)', 'CONSOL ENERGY INC (CNX)', 'CONOCO INC (COC1)', 'CABOT OIL & GAS CORP (COG)', 'CONOCOPHILLIPS (COP)', 'COLUMBIA PIPELINE GROUP INC (CPGX)', 'CHEVRON CORP (CVX)', 'CONCHO RESOURCES INC (CXO)', 'DRESSER INDUSTRIES INC (DI.)', 'DENBURY RESOURCES INC (DNR)', 'DIAMOND OFFSHRE DRILLING INC (DO)', 'DEVON ENERGY CORP (DVN)', 'EOG RESOURCES INC (EOG)', 'EL PASO CORP (EP)', 'EQT CORP (EQT)', 'ENSCO PLC (ESV)', 'TECHNIPFMC PLC (FTI)', 'FMC TECHNOLOGIES INC (FTI.1)', 'HALLIBURTON CO (HAL)', 'HESS CORP (HES)', 'HELMERICH & PAYNE (HP)', 'KERR-MCGEE CORP (KMG.1)', 'KINDER MORGAN INC (KMI)', 'LOUISIANA LAND & EXPLORATION (LLX.)', 'MCDERMOTT INTL INC (MDR)', 'MASSEY ENERGY CO (MEE)', 'MOBIL CORP (MOB.2)', 'MARATHON PETROLEUM CORP (MPC)', 'MARATHON OIL CORP (MRO)', 'USX CORP-CONSOLIDATED (MROX.CM)', 'MURPHY OIL CORP (MUR)', 'MAXUS ENERGY CORP (MXS)', 'NOBLE ENERGY INC (NBL)', 'NABORS INDUSTRIES LTD (NBR)', 'NACCO INDUSTRIES  -CL A (NC)', 'NOBLE CORP PLC (NE)', 'NEWFIELD EXPLORATION CO (NFX)', 'NATIONAL OILWELL VARCO INC (NOV)', 'ONEOK INC (OKE)', 'ORYX ENERGY CO (ORX)', 'OCCIDENTAL PETROLEUM CORP (OXY)', 'PHILLIPS 66 (PSX)', 'PIONEER NATURAL RESOURCES CO (PXD)', 'PENNZENERGY CO (PZE.1)', 'QEP RESOURCES INC (QEP)', 'ROWAN COMPANIES PLC (RDC)', 'ROYAL DUTCH PETROLEUM NV (RDPL)', 'TRANSOCEAN LTD (RIG)', 'RANGE RESOURCES CORP (RRC)', 'SANTA FE SNYDER CORP (SFS.1)', 'SMITH INTERNATIONAL INC (SII)', 'SCHLUMBERGER LTD (SLB)', 'SUNOCO INC (SUN.1)', 'SOUTHWESTERN ENERGY CO (SWN)', 'STEEL EXCEL INC (SXCL)', 'TOSCO CORP (TOS.1)', 'TEXACO INC (TX.2)', 'UNOCAL CORP (UCL)', 'UNION PACIFIC RESOURCES GRP (UPR.1)', 'VALERO ENERGY CORP (VLO)', 'WESTERN ATLAS INC (WAI.1)', 'WEATHERFORD INTL PLC (WFT)', 'WESTMORELAND COAL CO (WLB)', 'WILLIAMS COS INC (WMB)', 'WPX ENERGY INC (WPX)', 'CIMAREX ENERGY CO (XEC)', 'EXXON MOBIL CORP (XOM)', 'XTO ENERGY INC (XTO)']\n"
     ]
    }
   ],
   "source": [
    "lis = []\n",
    "for each in tup:\n",
    "    stock = \"{} ({})\".format(each[2],each[1])\n",
    "    lis.append(stock)\n",
    "print(lis)"
   ]
  },
  {
   "cell_type": "code",
   "execution_count": null,
   "metadata": {},
   "outputs": [],
   "source": []
  }
 ],
 "metadata": {
  "kernelspec": {
   "display_name": "Python 3",
   "language": "python",
   "name": "python3"
  },
  "language_info": {
   "codemirror_mode": {
    "name": "ipython",
    "version": 3
   },
   "file_extension": ".py",
   "mimetype": "text/x-python",
   "name": "python",
   "nbconvert_exporter": "python",
   "pygments_lexer": "ipython3",
   "version": "3.7.3"
  }
 },
 "nbformat": 4,
 "nbformat_minor": 2
}
