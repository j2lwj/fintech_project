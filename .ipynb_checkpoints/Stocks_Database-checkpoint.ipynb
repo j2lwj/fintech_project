{
 "cells": [
  {
   "cell_type": "code",
   "execution_count": 22,
   "metadata": {},
   "outputs": [
    {
     "name": "stdout",
     "output_type": "stream",
     "text": [
      "   ID Ticker                         Name\n",
      "0   1   AN.2                   AMOCO CORP\n",
      "1   2   ANDV                     ANDEAVOR\n",
      "2   3  ANRZQ  ALPHA NATURAL RESOURCES INC\n",
      "3   4    APA                  APACHE CORP\n",
      "4   5    APC      ANADARKO PETROLEUM CORP\n"
     ]
    }
   ],
   "source": [
    "import pandas as pd\n",
    "import datetime\n",
    "from django.db import models\n",
    "\n",
    "stocks_df = pd.read_csv('sector10_tickers.csv')\n",
    "print(stocks_df.head())"
   ]
  },
  {
   "cell_type": "code",
   "execution_count": 26,
   "metadata": {},
   "outputs": [
    {
     "name": "stdout",
     "output_type": "stream",
     "text": [
      "[[1 'AN.2' 'AMOCO CORP']\n",
      " [2 'ANDV' 'ANDEAVOR']\n",
      " [3 'ANRZQ' 'ALPHA NATURAL RESOURCES INC']\n",
      " [4 'APA' 'APACHE CORP']\n",
      " [5 'APC' 'ANADARKO PETROLEUM CORP']\n",
      " [6 'ARC.3' 'ATLANTIC RICHFIELD CO']\n",
      " [7 'BHI' 'BAKER HUGHES INC']\n",
      " [8 'BJS.1' 'BJ SERVICES CO']\n",
      " [9 'BR.2' 'BURLINGTON RESOURCES INC']\n",
      " [10 'BTU' 'PEABODY ENERGY CORP']\n",
      " [11 'CAM' 'CAMERON INTERNATIONAL CORP']\n",
      " [12 'CHK' 'CHESAPEAKE ENERGY CORP']\n",
      " [13 'CNX' 'CONSOL ENERGY INC']\n",
      " [14 'COC1' 'CONOCO INC']\n",
      " [15 'COG' 'CABOT OIL & GAS CORP']\n",
      " [16 'COP' 'CONOCOPHILLIPS']\n",
      " [17 'CPGX' 'COLUMBIA PIPELINE GROUP INC']\n",
      " [18 'CVX' 'CHEVRON CORP']\n",
      " [19 'CXO' 'CONCHO RESOURCES INC']\n",
      " [20 'DI.' 'DRESSER INDUSTRIES INC']\n",
      " [21 'DNR' 'DENBURY RESOURCES INC']\n",
      " [22 'DO' 'DIAMOND OFFSHRE DRILLING INC']\n",
      " [23 'DVN' 'DEVON ENERGY CORP']\n",
      " [24 'EOG' 'EOG RESOURCES INC']\n",
      " [25 'EP' 'EL PASO CORP']\n",
      " [26 'EQT' 'EQT CORP']\n",
      " [27 'ESV' 'ENSCO PLC']\n",
      " [28 'FTI' 'TECHNIPFMC PLC']\n",
      " [29 'FTI.1' 'FMC TECHNOLOGIES INC']\n",
      " [30 'HAL' 'HALLIBURTON CO']\n",
      " [31 'HES' 'HESS CORP']\n",
      " [32 'HP' 'HELMERICH & PAYNE']\n",
      " [33 'KMG.1' 'KERR-MCGEE CORP']\n",
      " [34 'KMI' 'KINDER MORGAN INC']\n",
      " [35 'LLX.' 'LOUISIANA LAND & EXPLORATION']\n",
      " [36 'MDR' 'MCDERMOTT INTL INC']\n",
      " [37 'MEE' 'MASSEY ENERGY CO']\n",
      " [38 'MOB.2' 'MOBIL CORP']\n",
      " [39 'MPC' 'MARATHON PETROLEUM CORP']\n",
      " [40 'MRO' 'MARATHON OIL CORP']\n",
      " [41 'MROX.CM' 'USX CORP-CONSOLIDATED']\n",
      " [42 'MUR' 'MURPHY OIL CORP']\n",
      " [43 'MXS' 'MAXUS ENERGY CORP']\n",
      " [44 'NBL' 'NOBLE ENERGY INC']\n",
      " [45 'NBR' 'NABORS INDUSTRIES LTD']\n",
      " [46 'NC' 'NACCO INDUSTRIES  -CL A']\n",
      " [47 'NE' 'NOBLE CORP PLC']\n",
      " [48 'NFX' 'NEWFIELD EXPLORATION CO']\n",
      " [49 'NOV' 'NATIONAL OILWELL VARCO INC']\n",
      " [50 'OKE' 'ONEOK INC']\n",
      " [51 'ORX' 'ORYX ENERGY CO']\n",
      " [52 'OXY' 'OCCIDENTAL PETROLEUM CORP']\n",
      " [53 'PSX' 'PHILLIPS 66']\n",
      " [54 'PXD' 'PIONEER NATURAL RESOURCES CO']\n",
      " [55 'PZE.1' 'PENNZENERGY CO']\n",
      " [56 'QEP' 'QEP RESOURCES INC']\n",
      " [57 'RDC' 'ROWAN COMPANIES PLC']\n",
      " [58 'RDPL' 'ROYAL DUTCH PETROLEUM NV']\n",
      " [59 'RIG' 'TRANSOCEAN LTD']\n",
      " [60 'RRC' 'RANGE RESOURCES CORP']\n",
      " [61 'SFS.1' 'SANTA FE SNYDER CORP']\n",
      " [62 'SII' 'SMITH INTERNATIONAL INC']\n",
      " [63 'SLB' 'SCHLUMBERGER LTD']\n",
      " [64 'SUN.1' 'SUNOCO INC']\n",
      " [65 'SWN' 'SOUTHWESTERN ENERGY CO']\n",
      " [66 'SXCL' 'STEEL EXCEL INC']\n",
      " [67 'TOS.1' 'TOSCO CORP']\n",
      " [68 'TX.2' 'TEXACO INC']\n",
      " [69 'UCL' 'UNOCAL CORP']\n",
      " [70 'UPR.1' 'UNION PACIFIC RESOURCES GRP']\n",
      " [71 'VLO' 'VALERO ENERGY CORP']\n",
      " [72 'WAI.1' 'WESTERN ATLAS INC']\n",
      " [73 'WFT' 'WEATHERFORD INTL PLC']\n",
      " [74 'WLB' 'WESTMORELAND COAL CO']\n",
      " [75 'WMB' 'WILLIAMS COS INC']\n",
      " [76 'WPX' 'WPX ENERGY INC']\n",
      " [77 'XEC' 'CIMAREX ENERGY CO']\n",
      " [78 'XOM' 'EXXON MOBIL CORP']\n",
      " [79 'XTO' 'XTO ENERGY INC']]\n"
     ]
    }
   ],
   "source": [
    "tup = stocks_df.values\n",
    "print(tup)"
   ]
  },
  {
   "cell_type": "code",
   "execution_count": 24,
   "metadata": {},
   "outputs": [
    {
     "ename": "NameError",
     "evalue": "name 'Stocks' is not defined",
     "output_type": "error",
     "traceback": [
      "\u001b[1;31m---------------------------------------------------------------------------\u001b[0m",
      "\u001b[1;31mNameError\u001b[0m                                 Traceback (most recent call last)",
      "\u001b[1;32m<ipython-input-24-dded5dd6e3ce>\u001b[0m in \u001b[0;36m<module>\u001b[1;34m\u001b[0m\n\u001b[0;32m      1\u001b[0m \u001b[1;32mfor\u001b[0m \u001b[0meach\u001b[0m \u001b[1;32min\u001b[0m \u001b[0mtup\u001b[0m\u001b[1;33m:\u001b[0m\u001b[1;33m\u001b[0m\u001b[1;33m\u001b[0m\u001b[0m\n\u001b[1;32m----> 2\u001b[1;33m     \u001b[0mStocks\u001b[0m\u001b[1;33m.\u001b[0m\u001b[0mobjects\u001b[0m\u001b[1;33m.\u001b[0m\u001b[0mcreate\u001b[0m\u001b[1;33m(\u001b[0m\u001b[0mstock_id\u001b[0m\u001b[1;33m=\u001b[0m\u001b[1;34m'each[0]'\u001b[0m\u001b[1;33m,\u001b[0m \u001b[0mstock_name\u001b[0m\u001b[1;33m=\u001b[0m\u001b[1;34m'each[2]'\u001b[0m\u001b[1;33m,\u001b[0m \u001b[0mticker\u001b[0m\u001b[1;33m=\u001b[0m\u001b[1;34m'each[1]'\u001b[0m\u001b[1;33m,\u001b[0m \u001b[0mcreated_at\u001b[0m\u001b[1;33m=\u001b[0m\u001b[0mdatetime\u001b[0m\u001b[1;33m.\u001b[0m\u001b[0mdatetime\u001b[0m\u001b[1;33m.\u001b[0m\u001b[0mnow\u001b[0m\u001b[1;33m(\u001b[0m\u001b[1;33m)\u001b[0m\u001b[1;33m)\u001b[0m\u001b[1;33m\u001b[0m\u001b[1;33m\u001b[0m\u001b[0m\n\u001b[0m",
      "\u001b[1;31mNameError\u001b[0m: name 'Stocks' is not defined"
     ]
    }
   ],
   "source": [
    "for each in tup:\n",
    "    Stocks.objects.create(stock_id='each[0]', stock_name='each[2]', ticker='each[1]', created_at=datetime.datetime.now())"
   ]
  },
  {
   "cell_type": "code",
   "execution_count": null,
   "metadata": {},
   "outputs": [],
   "source": []
  }
 ],
 "metadata": {
  "kernelspec": {
   "display_name": "Python 3",
   "language": "python",
   "name": "python3"
  },
  "language_info": {
   "codemirror_mode": {
    "name": "ipython",
    "version": 3
   },
   "file_extension": ".py",
   "mimetype": "text/x-python",
   "name": "python",
   "nbconvert_exporter": "python",
   "pygments_lexer": "ipython3",
   "version": "3.7.3"
  }
 },
 "nbformat": 4,
 "nbformat_minor": 2
}
